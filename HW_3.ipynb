{
 "cells": [
  {
   "cell_type": "code",
   "execution_count": 1,
   "id": "06b17bb8",
   "metadata": {},
   "outputs": [],
   "source": [
    "import os.path"
   ]
  },
  {
   "cell_type": "code",
   "execution_count": 2,
   "id": "4c0e6c8a",
   "metadata": {},
   "outputs": [],
   "source": [
    "def read_line(n, file):\n",
    "    if type(n) != int:\n",
    "        return \"invalid input detected\"\n",
    "    elif n > 23:\n",
    "        return (\"line {} doesnt exist\".format(n))\n",
    "    else:\n",
    "        is_file_exists = os.path.exists(file)\n",
    "        if is_file_exists == True:\n",
    "            with open(file, 'r') as the_file:\n",
    "                x = the_file.readlines()[n-1]\n",
    "                if x == ' \\n':\n",
    "                    return \"\" \"\" \n",
    "                else:\n",
    "                    return \n",
    "        else:\n",
    "            return \"file not found\"\n",
    "        "
   ]
  },
  {
   "cell_type": "code",
   "execution_count": 3,
   "id": "91d71e5c",
   "metadata": {},
   "outputs": [
    {
     "data": {
      "text/plain": [
       "''"
      ]
     },
     "execution_count": 3,
     "metadata": {},
     "output_type": "execute_result"
    }
   ],
   "source": [
    "read_line(9, \"ex3_text.txt\")"
   ]
  },
  {
   "cell_type": "code",
   "execution_count": 4,
   "id": "12b70136",
   "metadata": {},
   "outputs": [
    {
     "data": {
      "text/plain": [
       "'line 29 doesnt exist'"
      ]
     },
     "execution_count": 4,
     "metadata": {},
     "output_type": "execute_result"
    }
   ],
   "source": [
    "read_line(29, \"ex3_text.txt\")"
   ]
  },
  {
   "cell_type": "code",
   "execution_count": 5,
   "id": "65818653",
   "metadata": {},
   "outputs": [
    {
     "data": {
      "text/plain": [
       "'invalid input detected'"
      ]
     },
     "execution_count": 5,
     "metadata": {},
     "output_type": "execute_result"
    }
   ],
   "source": [
    "read_line(\"c\",\" ex3_text.txt\") "
   ]
  },
  {
   "cell_type": "code",
   "execution_count": 6,
   "id": "bcb9f58e",
   "metadata": {},
   "outputs": [
    {
     "data": {
      "text/plain": [
       "'file not found'"
      ]
     },
     "execution_count": 6,
     "metadata": {},
     "output_type": "execute_result"
    }
   ],
   "source": [
    "read_line(9, \"ex4_text.txt\")"
   ]
  },
  {
   "cell_type": "code",
   "execution_count": 7,
   "id": "651a284d",
   "metadata": {},
   "outputs": [],
   "source": [
    "import os.path"
   ]
  },
  {
   "cell_type": "code",
   "execution_count": 13,
   "id": "650e0b34",
   "metadata": {},
   "outputs": [],
   "source": [
    "def longest_words(file):\n",
    "    is_file_exists = os.path.exists(file)\n",
    "    if is_file_exists == True:\n",
    "        with open(file, 'r') as the_file:\n",
    "            words_list = list()\n",
    "            for line in the_file:\n",
    "                words = line.split()\n",
    "                for word in words:\n",
    "                    if word not in words_list:\n",
    "                        words_list.append(word)\n",
    "        sorted_list = list(sorted(words_list, key = len, reverse = True))\n",
    "        return sorted_list[1:6]  \n",
    "             \n",
    "    else:\n",
    "            print(\"file not found\")\n",
    "            empty_list = []\n",
    "            return empty_list"
   ]
  },
  {
   "cell_type": "code",
   "execution_count": 14,
   "id": "063eb273",
   "metadata": {},
   "outputs": [
    {
     "data": {
      "text/plain": [
       "['electromagnetic',\n",
       " 'gravitational',\n",
       " 'Consequently,',\n",
       " 'calculations',\n",
       " 'ultraviolet']"
      ]
     },
     "execution_count": 14,
     "metadata": {},
     "output_type": "execute_result"
    }
   ],
   "source": [
    "longest_words(\"ex3_text.txt\")"
   ]
  },
  {
   "cell_type": "code",
   "execution_count": 15,
   "id": "09342762",
   "metadata": {},
   "outputs": [
    {
     "name": "stdout",
     "output_type": "stream",
     "text": [
      "file not found\n"
     ]
    },
    {
     "data": {
      "text/plain": [
       "[]"
      ]
     },
     "execution_count": 15,
     "metadata": {},
     "output_type": "execute_result"
    }
   ],
   "source": [
    "longest_words(\"ex4_text.txt\")"
   ]
  },
  {
   "cell_type": "code",
   "execution_count": null,
   "id": "4726062b",
   "metadata": {},
   "outputs": [],
   "source": []
  }
 ],
 "metadata": {
  "kernelspec": {
   "display_name": "Python 3 (ipykernel)",
   "language": "python",
   "name": "python3"
  },
  "language_info": {
   "codemirror_mode": {
    "name": "ipython",
    "version": 3
   },
   "file_extension": ".py",
   "mimetype": "text/x-python",
   "name": "python",
   "nbconvert_exporter": "python",
   "pygments_lexer": "ipython3",
   "version": "3.9.7"
  }
 },
 "nbformat": 4,
 "nbformat_minor": 5
}
